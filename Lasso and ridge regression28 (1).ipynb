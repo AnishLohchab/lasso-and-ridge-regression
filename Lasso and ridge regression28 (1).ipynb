{
 "cells": [
  {
   "cell_type": "markdown",
   "id": "c8733406",
   "metadata": {},
   "source": [
    "# Lasso regressor"
   ]
  },
  {
   "cell_type": "code",
   "execution_count": 7,
   "id": "684d3251",
   "metadata": {},
   "outputs": [
    {
     "name": "stdout",
     "output_type": "stream",
     "text": [
      "\n",
      ".........................Lasso Model............................................\n",
      "\n",
      "The train score for ls model is 0.0006039472716750094\n",
      "The test score for ls model is 0.000314867914498862\n"
     ]
    }
   ],
   "source": [
    "#libraries\n",
    "import pandas as pd\n",
    "import numpy as np\n",
    "import seaborn as sns\n",
    "import matplotlib.pyplot as plt\n",
    "from sklearn.model_selection import train_test_split\n",
    "from sklearn.linear_model import LinearRegression\n",
    "from sklearn.linear_model import Ridge, Lasso\n",
    "from sklearn.preprocessing import StandardScaler\n",
    "from sklearn.datasets import fetch_california_housing\n",
    "import sklearn.cross_decomposition as cv\n",
    "from sklearn import linear_model\n",
    "import sklearn\n",
    "\n",
    "dataset = sklearn.datasets.fetch_california_housing()\n",
    "X = dataset['data']\n",
    "y = dataset['target']\n",
    "X_train, X_test, y_train, y_test = train_test_split(X, y, test_size=0.25, random_state=15)\n",
    "\n",
    "#Lasso regression model\n",
    "print(\"\\n.........................Lasso Model............................................\\n\")\n",
    "lasso = Lasso(alpha = 10)\n",
    "lasso.fit(X_train,y_train)\n",
    "train_score_ls =lasso.score(X_train,y_train)\n",
    "test_score_ls =lasso.score(X_test,y_test)\n",
    "\n",
    "print(\"The train score for ls model is {}\".format(train_score_ls))\n",
    "print(\"The test score for ls model is {}\".format(test_score_ls))"
   ]
  },
  {
   "cell_type": "code",
   "execution_count": 17,
   "id": "b3f79b01",
   "metadata": {},
   "outputs": [
    {
     "name": "stdout",
     "output_type": "stream",
     "text": [
      "0.000314867914498862\n",
      "0.6046435351561679\n",
      "0.4177298795134846\n"
     ]
    }
   ],
   "source": [
    "## prediction for lasso\n",
    "y_pred_0 = lasso.predict(X_test)\n",
    "print(r2_score(y_test,y_pred_0))\n",
    "\n",
    "## prediction for Ridge\n",
    "y_pred_2 = ridgeReg.predict(X_test)\n",
    "print(r2_score(y_test,y_pred_2))\n",
    "\n",
    "## prediction for Elastic\n",
    "y_pred_1 = enet_model.predict(X_test)\n",
    "print(r2_score(y_test,y_pred_1))"
   ]
  },
  {
   "cell_type": "code",
   "execution_count": 8,
   "id": "e538d6bb",
   "metadata": {},
   "outputs": [
    {
     "data": {
      "text/plain": [
       "{'data': array([[   8.3252    ,   41.        ,    6.98412698, ...,    2.55555556,\n",
       "           37.88      , -122.23      ],\n",
       "        [   8.3014    ,   21.        ,    6.23813708, ...,    2.10984183,\n",
       "           37.86      , -122.22      ],\n",
       "        [   7.2574    ,   52.        ,    8.28813559, ...,    2.80225989,\n",
       "           37.85      , -122.24      ],\n",
       "        ...,\n",
       "        [   1.7       ,   17.        ,    5.20554273, ...,    2.3256351 ,\n",
       "           39.43      , -121.22      ],\n",
       "        [   1.8672    ,   18.        ,    5.32951289, ...,    2.12320917,\n",
       "           39.43      , -121.32      ],\n",
       "        [   2.3886    ,   16.        ,    5.25471698, ...,    2.61698113,\n",
       "           39.37      , -121.24      ]]),\n",
       " 'target': array([4.526, 3.585, 3.521, ..., 0.923, 0.847, 0.894]),\n",
       " 'frame': None,\n",
       " 'target_names': ['MedHouseVal'],\n",
       " 'feature_names': ['MedInc',\n",
       "  'HouseAge',\n",
       "  'AveRooms',\n",
       "  'AveBedrms',\n",
       "  'Population',\n",
       "  'AveOccup',\n",
       "  'Latitude',\n",
       "  'Longitude'],\n",
       " 'DESCR': '.. _california_housing_dataset:\\n\\nCalifornia Housing dataset\\n--------------------------\\n\\n**Data Set Characteristics:**\\n\\n    :Number of Instances: 20640\\n\\n    :Number of Attributes: 8 numeric, predictive attributes and the target\\n\\n    :Attribute Information:\\n        - MedInc        median income in block group\\n        - HouseAge      median house age in block group\\n        - AveRooms      average number of rooms per household\\n        - AveBedrms     average number of bedrooms per household\\n        - Population    block group population\\n        - AveOccup      average number of household members\\n        - Latitude      block group latitude\\n        - Longitude     block group longitude\\n\\n    :Missing Attribute Values: None\\n\\nThis dataset was obtained from the StatLib repository.\\nhttps://www.dcc.fc.up.pt/~ltorgo/Regression/cal_housing.html\\n\\nThe target variable is the median house value for California districts,\\nexpressed in hundreds of thousands of dollars ($100,000).\\n\\nThis dataset was derived from the 1990 U.S. census, using one row per census\\nblock group. A block group is the smallest geographical unit for which the U.S.\\nCensus Bureau publishes sample data (a block group typically has a population\\nof 600 to 3,000 people).\\n\\nA household is a group of people residing within a home. Since the average\\nnumber of rooms and bedrooms in this dataset are provided per household, these\\ncolumns may take surprisingly large values for block groups with few households\\nand many empty houses, such as vacation resorts.\\n\\nIt can be downloaded/loaded using the\\n:func:`sklearn.datasets.fetch_california_housing` function.\\n\\n.. topic:: References\\n\\n    - Pace, R. Kelley and Ronald Barry, Sparse Spatial Autoregressions,\\n      Statistics and Probability Letters, 33 (1997) 291-297\\n'}"
      ]
     },
     "execution_count": 8,
     "metadata": {},
     "output_type": "execute_result"
    }
   ],
   "source": [
    "dataset"
   ]
  },
  {
   "cell_type": "markdown",
   "id": "522ec8e2",
   "metadata": {},
   "source": [
    "# Ridge Regressor"
   ]
  },
  {
   "cell_type": "code",
   "execution_count": 6,
   "id": "b6bf57d5",
   "metadata": {},
   "outputs": [
    {
     "name": "stdout",
     "output_type": "stream",
     "text": [
      "The train score for lr model is 0.6109633715458154\n",
      "The test score for lr model is 0.591169543641048\n",
      "\n",
      "Ridge Model............................................\n",
      "\n",
      "The train score for ridge model is 0.6106599094227464\n",
      "The test score for ridge model is 0.5902139854822974\n"
     ]
    }
   ],
   "source": [
    "#Model\n",
    "lr = LinearRegression()\n",
    "\n",
    "#Fit model\n",
    "lr.fit(X_train, y_train)\n",
    "\n",
    "#predict\n",
    "#prediction = lr.predict(X_test)\n",
    "\n",
    "#actual\n",
    "actual = y_test\n",
    "\n",
    "train_score_lr = lr.score(X_train, y_train)\n",
    "test_score_lr = lr.score(X_test, y_test)\n",
    "\n",
    "print(\"The train score for lr model is {}\".format(train_score_lr))\n",
    "print(\"The test score for lr model is {}\".format(test_score_lr))\n",
    "\n",
    "\n",
    "#Ridge Regression Model\n",
    "ridgeReg = Ridge(alpha=100)\n",
    "\n",
    "ridgeReg.fit(X_train,y_train)\n",
    "\n",
    "#train and test scorefor ridge regression\n",
    "train_score_ridge = ridgeReg.score(X_train, y_train)\n",
    "test_score_ridge = ridgeReg.score(X_test, y_test)\n",
    "\n",
    "print(\"\\nRidge Model............................................\\n\")\n",
    "print(\"The train score for ridge model is {}\".format(train_score_ridge))\n",
    "print(\"The test score for ridge model is {}\".format(test_score_ridge))\n"
   ]
  },
  {
   "cell_type": "markdown",
   "id": "998a4e4d",
   "metadata": {},
   "source": [
    "# Using cross validation"
   ]
  },
  {
   "cell_type": "markdown",
   "id": "403e2fec",
   "metadata": {},
   "source": [
    "We may need to try out different alpha values to find the optimal constraint value. For this case, we can use the cross-validation model in the sklearn package. This will try out different combinations of alpha values and then choose the best model.\n",
    "\n",
    "\n"
   ]
  },
  {
   "cell_type": "markdown",
   "id": "0e8c7b89",
   "metadata": {},
   "source": [
    " # Lasso Cross validation"
   ]
  },
  {
   "cell_type": "code",
   "execution_count": 18,
   "id": "42369eeb",
   "metadata": {},
   "outputs": [
    {
     "name": "stdout",
     "output_type": "stream",
     "text": [
      "0.606383972592905\n",
      "0.604626197272006\n"
     ]
    }
   ],
   "source": [
    "#Using the linear CV model\n",
    "from sklearn.linear_model import LassoCV\n",
    "\n",
    "#Lasso Cross validation\n",
    "lasso_cv = LassoCV(alphas = [0.0001, 0.001,0.01, 0.1, 1, 10], random_state=0).fit(X_train, y_train)\n",
    "\n",
    "\n",
    "#score\n",
    "print(lasso_cv.score(X_train, y_train))\n",
    "print(lasso_cv.score(X_test, y_test))\n"
   ]
  },
  {
   "cell_type": "markdown",
   "id": "77b31fe6",
   "metadata": {},
   "source": [
    "Using an alpha value of 10, the evaluation of the model, the train, and test data indicate better performance on the ridge model than on the linear regression model."
   ]
  },
  {
   "cell_type": "markdown",
   "id": "6787c991",
   "metadata": {},
   "source": [
    "# Ridge Cross validation"
   ]
  },
  {
   "cell_type": "code",
   "execution_count": 19,
   "id": "1f78b76c",
   "metadata": {},
   "outputs": [
    {
     "name": "stdout",
     "output_type": "stream",
     "text": [
      "The train score for ridge model is 0.6064172976629851\n",
      "The train score for ridge model is 0.6049277248626737\n"
     ]
    }
   ],
   "source": [
    "#Using the linear CV model\n",
    "from sklearn.linear_model import RidgeCV\n",
    "\n",
    "#Ridge Cross validation\n",
    "ridge_cv = RidgeCV(alphas = [0.0001, 0.001,0.01, 0.1, 1, 10]).fit(X_train, y_train)\n",
    "\n",
    "#score\n",
    "print(\"The train score for ridge model is {}\".format(ridge_cv.score(X_train, y_train)))\n",
    "print(\"The train score for ridge model is {}\".format(ridge_cv.score(X_test, y_test)))"
   ]
  },
  {
   "cell_type": "code",
   "execution_count": 5,
   "id": "d0589674",
   "metadata": {},
   "outputs": [
    {
     "name": "stdout",
     "output_type": "stream",
     "text": [
      "0.0001 [ 4.38725041e-01  9.60573216e-03 -1.02607317e-01  6.13113796e-01\n",
      " -7.60040055e-06 -4.48887838e-03 -4.17236219e-01 -4.30443252e-01]\n",
      "0.00021544346900318845 [ 4.38302495e-01  9.61391144e-03 -1.01794733e-01  6.08938831e-01\n",
      " -7.56305472e-06 -4.48945068e-03 -4.17101115e-01 -4.30245638e-01]\n",
      "0.00046415888336127773 [ 4.37392131e-01  9.63153273e-03 -1.00044046e-01  5.99944032e-01\n",
      " -7.48259718e-06 -4.49068359e-03 -4.16810078e-01 -4.29819929e-01]\n",
      "0.001 [ 4.35430588e-01  9.66949146e-03 -9.62719961e-02  5.80564052e-01\n",
      " -7.30927570e-06 -4.49333892e-03 -4.16183481e-01 -4.28903173e-01]\n",
      "0.002154434690031882 [ 4.31204047e-01  9.75125876e-03 -8.81446225e-02  5.38808130e-01\n",
      " -6.93591112e-06 -4.49905750e-03 -4.14834520e-01 -4.26929052e-01]\n",
      "0.004641588833612777 [ 4.22097249e-01  9.92739780e-03 -7.06333349e-02  4.48842020e-01\n",
      " -6.13160704e-06 -4.51137374e-03 -4.11930165e-01 -4.22677769e-01]\n",
      "0.01 [ 4.02474124e-01  1.03068044e-02 -3.29020231e-02  2.54997948e-01\n",
      " -4.39905667e-06 -4.53789547e-03 -4.05678899e-01 -4.13524436e-01]\n",
      "0.021544346900318822 [ 3.86045217e-01  1.09616724e-02  0.00000000e+00  4.92723567e-02\n",
      " -2.26244480e-06 -4.50793925e-03 -3.73337007e-01 -3.77001287e-01]\n",
      "0.046415888336127774 [ 3.88955581e-01  1.22883904e-02  0.00000000e+00  0.00000000e+00\n",
      "  2.33744383e-06 -4.30435240e-03 -2.85299474e-01 -2.83164858e-01]\n",
      "0.1 [ 3.95666352e-01  1.53279870e-02 -0.00000000e+00  0.00000000e+00\n",
      "  1.53002856e-05 -3.84935540e-03 -1.08253597e-01 -9.38537333e-02]\n",
      "CV [ 3.81485543e-01  1.12872676e-02  2.20440782e-03  0.00000000e+00\n",
      "  1.88778147e-06 -3.51349405e-03 -3.39002345e-01 -3.39456784e-01]\n"
     ]
    },
    {
     "data": {
      "image/png": "[encoded data removed]",
      "text/plain": [
       "<Figure size 640x480 with 1 Axes>"
      ]
     },
     "metadata": {},
     "output_type": "display_data"
    }
   ],
   "source": [
    "\n",
    "\n",
    "alphas = np.logspace(-4, -1, 10)\n",
    "scores = np.empty_like(alphas)\n",
    "for i,a in enumerate(alphas):\n",
    "    lasso = linear_model.Lasso()\n",
    "    lasso.set_params(alpha=a)\n",
    "    lasso.fit(X_train, y_train)\n",
    "    scores[i] = lasso.score(X_test, y_test)\n",
    "    print(a, lasso.coef_)\n",
    "    \n",
    "lassocv = linear_model.LassoCV()\n",
    "lassocv.fit(X, y)\n",
    "lassocv_score = lassocv.score(X, y)\n",
    "lassocv_alpha = lassocv.alpha_\n",
    "print('CV', lassocv.coef_)\n",
    "\n",
    "plt.plot(alphas, scores, '-ko')\n",
    "plt.axhline(lassocv_score, color='b', ls='--')\n",
    "plt.axvline(lassocv_alpha, color='b', ls='--')\n",
    "plt.xlabel(r'$\\alpha$')\n",
    "plt.ylabel('Score')\n",
    "plt.xscale('log')\n",
    "sns.despine(offset=15)"
   ]
  },
  {
   "cell_type": "code",
   "execution_count": 29,
   "id": "d649fded",
   "metadata": {},
   "outputs": [
    {
     "name": "stdout",
     "output_type": "stream",
     "text": [
      "R2 score: 0.606 ± 0.006\n"
     ]
    }
   ],
   "source": [
    "from sklearn.pipeline import make_pipeline\n",
    "from sklearn.model_selection import cross_validate\n",
    "alphas = np.logspace(-3, 1, num=30)\n",
    "model = make_pipeline(StandardScaler(), RidgeCV(alphas=alphas))\n",
    "cv_results = cross_validate(\n",
    "    model,\n",
    "    X_train,\n",
    "    y_train,\n",
    "    return_estimator=True,\n",
    "    n_jobs=2,\n",
    ") \n",
    "score = cv_results[\"test_score\"]\n",
    "print(f\"R2 score: {score.mean():.3f} ± {score.std():.3f}\")"
   ]
  },
  {
   "cell_type": "code",
   "execution_count": 30,
   "id": "9d26a986",
   "metadata": {},
   "outputs": [
    {
     "data": {
      "image/png": "[encoded data removed]",
      "text/plain": [
       "<Figure size 600x600 with 1 Axes>"
      ]
     },
     "metadata": {},
     "output_type": "display_data"
    }
   ],
   "source": [
    "#We can also plot the coefficients for both the linear and ridge models.\n",
    "\n",
    "\n",
    "plt.figure(figsize = (6,6))\n",
    "plt.plot(dataset.feature_names,ridgeReg.coef_,alpha=0.7,linestyle='none',marker='*',markersize=5,color='red',label=r'Ridge; $\\alpha = 10$',zorder=7)\n",
    "#plt.plot(rr100.coef_,alpha=0.5,linestyle='none',marker='d',markersize=6,color='blue',label=r'Ridge; $\\alpha = 100$')\n",
    "plt.plot(dataset.feature_names,lr.coef_,alpha=0.4,linestyle='none',marker='o',markersize=7,color='green',label='Linear Regression')\n",
    "plt.xticks(rotation = 90)\n",
    "plt.legend()\n",
    "plt.show()"
   ]
  },
  {
   "cell_type": "code",
   "execution_count": 31,
   "id": "48aaacee",
   "metadata": {},
   "outputs": [
    {
     "data": {
      "image/png": "[encoded data removed]",
      "text/plain": [
       "<Figure size 1000x1000 with 1 Axes>"
      ]
     },
     "metadata": {},
     "output_type": "display_data"
    }
   ],
   "source": [
    "#plot size\n",
    "plt.figure(figsize = (10, 10))\n",
    "#add plot for ridge regression\n",
    "plt.plot(dataset.feature_names,ridgeReg.coef_,alpha=0.7,linestyle='none',marker='*',markersize=5,color='red',label=r'Ridge; $\\alpha = 10$',zorder=7)\n",
    "\n",
    "#add plot for lasso regression\n",
    "plt.plot(lasso_cv.coef_,alpha=0.5,linestyle='none',marker='d',markersize=6,color='blue',label=r'lasso; $\\alpha = grid$')\n",
    "\n",
    "#add plot for linear model\n",
    "plt.plot(dataset.feature_names,lr.coef_,alpha=0.4,linestyle='none',marker='o',markersize=7,color='green',label='Linear Regression')\n",
    "\n",
    "#rotate axis\n",
    "plt.xticks(rotation = 90)\n",
    "plt.legend()\n",
    "plt.title(\"Comparison plot of Ridge, Lasso and Linear regression model\")\n",
    "plt.show()\n"
   ]
  },
  {
   "cell_type": "markdown",
   "id": "c71f21fe",
   "metadata": {},
   "source": [
    "# Elastic net regressor"
   ]
  },
  {
   "cell_type": "code",
   "execution_count": 11,
   "id": "76fe58b6",
   "metadata": {},
   "outputs": [],
   "source": [
    "from sklearn.linear_model import ElasticNet\n",
    "from sklearn.metrics import mean_squared_error,r2_score\n",
    "enet_model = ElasticNet().fit(X_train, y_train)"
   ]
  },
  {
   "cell_type": "code",
   "execution_count": 12,
   "id": "41bb3206",
   "metadata": {},
   "outputs": [
    {
     "data": {
      "text/plain": [
       "array([ 2.54025141e-01,  1.17293329e-02,  0.00000000e+00, -0.00000000e+00,\n",
       "        1.07104254e-05, -0.00000000e+00, -0.00000000e+00, -0.00000000e+00])"
      ]
     },
     "execution_count": 12,
     "metadata": {},
     "output_type": "execute_result"
    }
   ],
   "source": [
    "enet_model.coef_"
   ]
  },
  {
   "cell_type": "code",
   "execution_count": 13,
   "id": "1507fa19",
   "metadata": {},
   "outputs": [
    {
     "data": {
      "text/plain": [
       "0.7306713874373953"
      ]
     },
     "execution_count": 13,
     "metadata": {},
     "output_type": "execute_result"
    }
   ],
   "source": [
    "enet_model.intercept_"
   ]
  },
  {
   "cell_type": "code",
   "execution_count": 14,
   "id": "ed491a94",
   "metadata": {},
   "outputs": [
    {
     "data": {
      "text/plain": [
       "array([2.59412451, 2.50317788, 1.88533748, 2.1883744 , 1.69654747,\n",
       "       2.05883444, 2.5140281 , 2.07442705, 1.38205415, 2.24257197])"
      ]
     },
     "execution_count": 14,
     "metadata": {},
     "output_type": "execute_result"
    }
   ],
   "source": [
    "enet_model.predict(X_train)[:10]"
   ]
  },
  {
   "cell_type": "code",
   "execution_count": 15,
   "id": "fc2f7158",
   "metadata": {},
   "outputs": [
    {
     "data": {
      "text/plain": [
       "array([2.1040646 , 1.64497978, 1.84635357, 2.58918483, 1.51226167,\n",
       "       1.91741146, 2.11052391, 1.61976716, 1.87623127, 1.93822037])"
      ]
     },
     "execution_count": 15,
     "metadata": {},
     "output_type": "execute_result"
    }
   ],
   "source": [
    "enet_model.predict(X_test)[:10]"
   ]
  },
  {
   "cell_type": "code",
   "execution_count": 13,
   "id": "99d16d34",
   "metadata": {},
   "outputs": [
    {
     "data": {
      "text/plain": [
       "0.8792160235273742"
      ]
     },
     "execution_count": 13,
     "metadata": {},
     "output_type": "execute_result"
    }
   ],
   "source": [
    "y_pred = enet_model.predict(X_test)\n",
    "\n",
    "mse = np.sqrt(mean_squared_error(y_test,y_pred))\n",
    "mse"
   ]
  },
  {
   "cell_type": "code",
   "execution_count": 14,
   "id": "2bca8e39",
   "metadata": {},
   "outputs": [
    {
     "data": {
      "text/plain": [
       "0.4151980682495934"
      ]
     },
     "execution_count": 14,
     "metadata": {},
     "output_type": "execute_result"
    }
   ],
   "source": [
    "r2_score(y_test,y_pred)"
   ]
  },
  {
   "cell_type": "code",
   "execution_count": 15,
   "id": "eba61281",
   "metadata": {},
   "outputs": [
    {
     "data": {
      "text/plain": [
       "'if the R2 of a model is 0.50, then approximately half of the observed variation can be explained by the model’s inputs.'"
      ]
     },
     "execution_count": 15,
     "metadata": {},
     "output_type": "execute_result"
    }
   ],
   "source": [
    "'if the R2 of a model is 0.50, then approximately half of the observed variation can be explained by the model’s inputs.'"
   ]
  },
  {
   "cell_type": "markdown",
   "id": "76270460",
   "metadata": {},
   "source": [
    "# Model Tuning\n",
    "The operations using the ElasticNetCV method to find the optimum lambda value."
   ]
  },
  {
   "cell_type": "code",
   "execution_count": 18,
   "id": "cc89bd6d",
   "metadata": {},
   "outputs": [
    {
     "data": {
      "text/plain": [
       "0.06772827165589806"
      ]
     },
     "execution_count": 18,
     "metadata": {},
     "output_type": "execute_result"
    }
   ],
   "source": [
    "from sklearn.linear_model import ElasticNetCV\n",
    "\n",
    "enet_cv_model = ElasticNetCV(cv = 10).fit(X_train,y_train)\n",
    "\n",
    "# If we don't give the lambdas, what's the alpha?\n",
    "\n",
    "enet_cv_model.alpha_"
   ]
  },
  {
   "cell_type": "markdown",
   "id": "edc88ae5",
   "metadata": {},
   "source": [
    "Accordingly, we find the alpha value as 0.06772.\n",
    "\n",
    "Afterward, we can find the constant of the model established with ElasticNetCV as follows."
   ]
  },
  {
   "cell_type": "code",
   "execution_count": 19,
   "id": "7a4fa043",
   "metadata": {},
   "outputs": [
    {
     "data": {
      "text/plain": [
       "-24.329605487007292"
      ]
     },
     "execution_count": 19,
     "metadata": {},
     "output_type": "execute_result"
    }
   ],
   "source": [
    "enet_cv_model.intercept_"
   ]
  },
  {
   "cell_type": "code",
   "execution_count": 20,
   "id": "f2d86a71",
   "metadata": {},
   "outputs": [
    {
     "data": {
      "text/plain": [
       "array([ 3.87365004e-01,  1.21981285e-02,  7.65407328e-04,  0.00000000e+00,\n",
       "        2.09063082e-06, -4.55230161e-03, -2.94856253e-01, -2.93272182e-01])"
      ]
     },
     "execution_count": 20,
     "metadata": {},
     "output_type": "execute_result"
    }
   ],
   "source": [
    "enet_cv_model.coef_"
   ]
  },
  {
   "cell_type": "code",
   "execution_count": 23,
   "id": "f7bdd206",
   "metadata": {},
   "outputs": [
    {
     "data": {
      "text/plain": [
       "0.7556554538745298"
      ]
     },
     "execution_count": 23,
     "metadata": {},
     "output_type": "execute_result"
    }
   ],
   "source": [
    "# Let's create the final model according to optimum alpha.\n",
    "\n",
    "enet_tuned = ElasticNet(alpha = enet_cv_model.alpha_).fit(X_train,y_train)\n",
    "\n",
    "# Let's now calculate the error for the test set using this final model.\n",
    "\n",
    "y_pred_1 = enet_tuned.predict(X_test)\n",
    "r2_score(y_test,y_pred_1)\n",
    "np.sqrt(mean_squared_error(y_test,y_pred_1))"
   ]
  },
  {
   "cell_type": "code",
   "execution_count": 24,
   "id": "ec12e753",
   "metadata": {},
   "outputs": [
    {
     "data": {
      "text/plain": [
       "0.568018396646083"
      ]
     },
     "execution_count": 24,
     "metadata": {},
     "output_type": "execute_result"
    }
   ],
   "source": []
  },
  {
   "cell_type": "code",
   "execution_count": null,
   "id": "cc4b3306",
   "metadata": {},
   "outputs": [],
   "source": []
  }
 ],
 "metadata": {
  "kernelspec": {
   "display_name": "Python 3 (ipykernel)",
   "language": "python",
   "name": "python3"
  },
  "language_info": {
   "codemirror_mode": {
    "name": "ipython",
    "version": 3
   },
   "file_extension": ".py",
   "mimetype": "text/x-python",
   "name": "python",
   "nbconvert_exporter": "python",
   "pygments_lexer": "ipython3",
   "version": "3.11.4"
  }
 },
 "nbformat": 4,
 "nbformat_minor": 5
}
